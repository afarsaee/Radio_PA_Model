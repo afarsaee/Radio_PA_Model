{
 "cells": [
  {
   "cell_type": "code",
   "execution_count": 1,
   "metadata": {},
   "outputs": [],
   "source": [
    "# import required packages\n",
    "import tensorflow as tf\n",
    "from tensorflow import keras\n",
    "import numpy as np\n",
    "import scipy.io"
   ]
  },
  {
   "cell_type": "code",
   "execution_count": 2,
   "metadata": {},
   "outputs": [],
   "source": [
    "# read Power Amplifier input data\n",
    "In_file = 'Input_NN.mat'\n",
    "In_x = scipy.io.loadmat(In_file)\n",
    "\n",
    "# X_Input has \"n_examples\" rows, and each row is a vector of \"memory_complex_PAs+current_input\" length\n",
    "x_input = np.asarray(In_x['X_Input'])\n",
    "n_examples = len(x_input)\n",
    "memory_complex_PAs_plus_current_input = x_input[0].shape\n",
    "\n",
    "# it is assumed the PA has memory_complex_PAs memory, \n",
    "    #thus the output of PA at time t is a function of inputs from time [t:t-memory_complex_PAs]\n",
    "    #memory_complex_PAs = 2 * memory_real_PAs, it means we need previous \" memory_complex_PAs/2\" complex inputs of PA\n",
    "\n",
    "# normalize input for a better training of NN\n",
    "mean_np=np.mean(x_input,axis=None)\n",
    "max_np=np.max(np.abs(x_input),axis=None)\n",
    "x_input=(x_input-mean_np)/(max_np)\n",
    "X_Train = x_input"
   ]
  },
  {
   "cell_type": "code",
   "execution_count": 3,
   "metadata": {},
   "outputs": [],
   "source": [
    "# read Outputs of PA at time t\n",
    "Out_file = 'Output_NN.mat'\n",
    "Out_y = scipy.io.loadmat(Out_file)\n",
    "\n",
    "# Y_Output has n_examples rows, and each row is the current output of the PA, which has real and imaginary parts\n",
    "y_output = np.asarray(Out_y['Y_Output'])\n",
    "\n",
    "mean_np_y=np.mean(y_output,axis=None)\n",
    "std_np_y=np.max(np.abs(y_output),axis=None)\n",
    "y_output=(y_output-mean_np_y)/(std_np_y)\n",
    "\n",
    "Y_Train = y_output"
   ]
  },
  {
   "cell_type": "code",
   "execution_count": 4,
   "metadata": {},
   "outputs": [],
   "source": [
    "# the FC NN has the following layers\n",
    "# input  layer\n",
    "input_shape  = memory_complex_PAs_plus_current_input\n",
    "# hidden layers\n",
    "layer1_nodes = 64\n",
    "layer2_nodes = 16\n",
    "layer3_nodes = 8\n",
    "# output layer\n",
    "N_out_layer  = 2"
   ]
  },
  {
   "cell_type": "code",
   "execution_count": 5,
   "metadata": {},
   "outputs": [],
   "source": [
    "# Defining a model for traning\n",
    "def create_model():\n",
    "# input layer/one hidden layer/output layer/\n",
    "    model = keras.Sequential([\n",
    "    keras.layers.Flatten(input_shape=input_shape),\n",
    "    keras.layers.Dense(layer1_nodes, activation='tanh'),                                                    \n",
    "    keras.layers.Dense(layer2_nodes, activation='tanh'),                                                                                                       \n",
    "    keras.layers.Dense(layer3_nodes, activation='tanh'), \n",
    "    keras.layers.Dense(N_out_layer,  activation='tanh'),\n",
    "    ])    \n",
    "\n",
    "    # setup the optimizer\n",
    "    adm = tf.keras.optimizers.Adam(lr=0.001)\n",
    "    # compile the model\n",
    "    model.compile(optimizer=adm,loss = 'mse',)\n",
    "    return model"
   ]
  },
  {
   "cell_type": "code",
   "execution_count": null,
   "metadata": {},
   "outputs": [
    {
     "name": "stdout",
     "output_type": "stream",
     "text": [
      "Model: \"sequential\"\n",
      "_________________________________________________________________\n",
      "Layer (type)                 Output Shape              Param #   \n",
      "=================================================================\n",
      "flatten (Flatten)            (None, 12)                0         \n",
      "_________________________________________________________________\n",
      "dense (Dense)                (None, 64)                832       \n",
      "_________________________________________________________________\n",
      "dense_1 (Dense)              (None, 16)                1040      \n",
      "_________________________________________________________________\n",
      "dense_2 (Dense)              (None, 8)                 136       \n",
      "_________________________________________________________________\n",
      "dense_3 (Dense)              (None, 2)                 18        \n",
      "=================================================================\n",
      "Total params: 2,026\n",
      "Trainable params: 2,026\n",
      "Non-trainable params: 0\n",
      "_________________________________________________________________\n",
      "Epoch 1/20\n",
      "3800/3800 [==============================] - 6s 1ms/step - loss: 7.3117e-04 - val_loss: 1.0240e-04\n",
      "Epoch 2/20\n",
      "3800/3800 [==============================] - 6s 1ms/step - loss: 1.0194e-04 - val_loss: 8.3436e-05\n",
      "Epoch 3/20\n",
      "3800/3800 [==============================] - 6s 1ms/step - loss: 6.7812e-05 - val_loss: 5.2109e-05\n",
      "Epoch 4/20\n",
      "3800/3800 [==============================] - 5s 1ms/step - loss: 5.7226e-05 - val_loss: 4.3459e-05\n",
      "Epoch 5/20\n",
      "3800/3800 [==============================] - 5s 1ms/step - loss: 5.0562e-05 - val_loss: 4.6986e-05\n",
      "Epoch 6/20\n",
      "3800/3800 [==============================] - 4s 1ms/step - loss: 4.5063e-05 - val_loss: 3.1643e-05\n",
      "Epoch 7/20\n",
      "3800/3800 [==============================] - 5s 1ms/step - loss: 4.3199e-05 - val_loss: 2.6027e-05\n",
      "Epoch 8/20\n",
      "3800/3800 [==============================] - 4s 1ms/step - loss: 3.9417e-05 - val_loss: 4.6213e-05\n",
      "Epoch 9/20\n",
      "3800/3800 [==============================] - 5s 1ms/step - loss: 3.7748e-05 - val_loss: 3.7110e-05\n",
      "Epoch 10/20\n",
      "3800/3800 [==============================] - 5s 1ms/step - loss: 3.5686e-05 - val_loss: 2.6112e-05\n",
      "Epoch 11/20\n",
      "3800/3800 [==============================] - 5s 1ms/step - loss: 3.5859e-05 - val_loss: 2.4523e-05\n",
      "Epoch 12/20\n",
      "3800/3800 [==============================] - 5s 1ms/step - loss: 3.3584e-05 - val_loss: 3.1562e-05\n",
      "Epoch 13/20\n",
      "3318/3800 [=========================>....] - ETA: 0s - loss: 3.2457e-05"
     ]
    }
   ],
   "source": [
    "# Create a basic model instance\n",
    "model = create_model()\n",
    "\n",
    "# summary of the model\n",
    "model.summary()\n",
    "\n",
    "# Model training\n",
    "epo=20\n",
    "b_size=25\n",
    "model.fit(X_Train, Y_Train, validation_split = 0.05, epochs=epo, batch_size=b_size)"
   ]
  },
  {
   "cell_type": "code",
   "execution_count": null,
   "metadata": {},
   "outputs": [],
   "source": [
    "# read test input data\n",
    "In_file = 'Input_NN_Test.mat'\n",
    "In_x = scipy.io.loadmat(In_file)\n",
    "\n",
    "# X_Input has n_examples rows, and each row is a vector of \"memory_complex_PAs+current_input\" length\n",
    "x_input_Test = np.asarray(In_x['X_Input'])\n",
    "n_examples_Test = len(x_input_Test)\n",
    "\n",
    "# normalize input\n",
    "x_input_Test=(x_input_Test-mean_np)/(max_np)\n",
    "\n",
    "X_Test = x_input_Test\n",
    "\n",
    "# find the estimated output from the model\n",
    "Y_hat = model.predict(X_Test)"
   ]
  },
  {
   "cell_type": "code",
   "execution_count": null,
   "metadata": {},
   "outputs": [],
   "source": [
    "# read test Outputs of PA\n",
    "Out_file = 'Output_NN_Test.mat'\n",
    "Out_y = scipy.io.loadmat(Out_file)\n",
    "\n",
    "# Y_Output has n_examples rows, and each row is the current output of the PA\n",
    "y_output_Test = np.asarray(Out_y['Y_Output'])\n",
    "\n",
    "# normalize measured output data\n",
    "y_output_Test=(y_output_Test-mean_np_y)/(std_np_y)\n",
    "\n",
    "Y_Test = y_output_Test"
   ]
  },
  {
   "cell_type": "code",
   "execution_count": null,
   "metadata": {},
   "outputs": [],
   "source": [
    "# find the MSE of NN and the measured data\n",
    "MSE_Model = np.square(Y_hat-Y_Test).mean(axis = None)"
   ]
  },
  {
   "cell_type": "code",
   "execution_count": null,
   "metadata": {},
   "outputs": [],
   "source": [
    "# find the absolute value of the NN output\n",
    "Y_real_hat = Y_hat[:,0]\n",
    "Y_imag_hat = Y_hat[:,1]\n",
    "Y_abs_hat = np.sqrt(np.square(Y_imag_hat) + np.square(Y_real_hat))\n",
    "\n",
    "# find the absolute value of the measured data\n",
    "Y_real = Y_Test[:,0]\n",
    "Y_imag = Y_Test[:,1]\n",
    "Y_abs_Test = np.sqrt(np.square(Y_imag) + np.square(Y_real))"
   ]
  },
  {
   "cell_type": "code",
   "execution_count": null,
   "metadata": {},
   "outputs": [],
   "source": [
    "# plot the measured absolute value of the output over the estimated abs\n",
    "import matplotlib.pyplot as plt\n",
    "plt.plot(np.abs(Y_abs_hat),np.abs(Y_abs_Test),'.')\n",
    "plt.ylabel('Measurements')\n",
    "plt.xlabel('Estimation')\n",
    "plt.title('Abs output: measurements vs. estimated')\n",
    "plt.show()"
   ]
  },
  {
   "cell_type": "code",
   "execution_count": null,
   "metadata": {},
   "outputs": [],
   "source": [
    "# plot the spectrum of the estimated NN output\n",
    "Y_hat_complex = Y_real_hat + 1j * Y_imag_hat\n",
    "Y_hat_complex = np.array(Y_hat_complex)\n",
    "fft_y_hat = np.fft.fftshift(np.fft.fft(Y_hat_complex))\n",
    "fft_y_hat_abs_log10 = 10*np.log10(np.abs(fft_y_hat))\n",
    "plt.plot((fft_y_hat_abs_log10))\n",
    "\n",
    "# find the ACPR of the NN\n",
    "fft_abs_channel = np.sum(np.square(np.abs(fft_y_hat[4500:5500])))\n",
    "a = fft_y_hat[1:4499]\n",
    "a = np.append(a,fft_y_hat[5501:])\n",
    "fft_abs_adj     = np.sum(np.square(np.abs(a)))\n",
    "ACLR = fft_abs_adj/fft_abs_channel\n",
    "print('ACLR: ', 10*np.log10(ACLR),' dB')"
   ]
  },
  {
   "cell_type": "code",
   "execution_count": null,
   "metadata": {},
   "outputs": [],
   "source": [
    "# plot the spectrum of the PA\n",
    "Y_complex_meas = Y_real + 1j * Y_imag\n",
    "Y_complex_meas = np.array(Y_complex_meas)\n",
    "fft_y_meas = np.fft.fftshift(np.fft.fft(Y_complex_meas))\n",
    "fft_y_meas_abs_log10 = 10*np.log10(np.abs(fft_y_meas))\n",
    "plt.plot(fft_y_meas_abs_log10)\n",
    "\n",
    "# find the ACPR of the PA\n",
    "fft_abs_channel = np.sum(np.square(np.abs(fft_y_meas[4500:5500])))\n",
    "a = fft_y_meas[1:4499]\n",
    "a = np.append(a,fft_y_meas[5501:])\n",
    "fft_abs_adj     = np.sum(np.square(np.abs(a)))\n",
    "ACLR = fft_abs_adj/fft_abs_channel\n",
    "print('ACLR: ', 10*np.log10(ACLR),' dB')"
   ]
  },
  {
   "cell_type": "code",
   "execution_count": null,
   "metadata": {},
   "outputs": [],
   "source": []
  }
 ],
 "metadata": {
  "kernelspec": {
   "display_name": "Python 3",
   "language": "python",
   "name": "python3"
  },
  "language_info": {
   "codemirror_mode": {
    "name": "ipython",
    "version": 3
   },
   "file_extension": ".py",
   "mimetype": "text/x-python",
   "name": "python",
   "nbconvert_exporter": "python",
   "pygments_lexer": "ipython3",
   "version": "3.8.5"
  }
 },
 "nbformat": 4,
 "nbformat_minor": 4
}
